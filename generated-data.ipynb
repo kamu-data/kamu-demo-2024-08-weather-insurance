{
 "cells": [
  {
   "cell_type": "code",
   "execution_count": null,
   "id": "b7cb771d",
   "metadata": {},
   "outputs": [],
   "source": [
    "%%local\n",
    "import os\n",
    "import pandas as pd\n",
    "import plotly.graph_objects as go\n",
    "import plotly.express as px\n",
    "import hvplot.pandas  # noqa\n",
    "import hvplot.xarray  # noqa\n",
    "import holoviews as hv"
   ]
  },
  {
   "cell_type": "code",
   "execution_count": null,
   "id": "8f54a102",
   "metadata": {},
   "outputs": [],
   "source": [
    "%load_ext kamu"
   ]
  },
  {
   "cell_type": "code",
   "execution_count": null,
   "id": "25358754",
   "metadata": {},
   "outputs": [],
   "source": [
    "%import_dataset weather-station-001\n",
    "%import_dataset weather-station-002"
   ]
  },
  {
   "cell_type": "code",
   "execution_count": null,
   "id": "3d773ddb",
   "metadata": {},
   "outputs": [],
   "source": [
    "%%sql -o df\n",
    "\n",
    "-- Notice: `-o df` above loads the result of remote SQL query into a local pandas DataFrame\n",
    "\n",
    "select\n",
    "    device_id,\n",
    "    date_trunc(\"HOUR\", event_time) as event_time,\n",
    "    max(precipitation_accumulated) - min(precipitation_accumulated) as precip\n",
    "from (\n",
    "    select \"001\" as device_id, * from `weather-station-001`\n",
    "    union all\n",
    "    select \"002\" as device_id, * from `weather-station-002`\n",
    ")\n",
    "group by 1, 2"
   ]
  },
  {
   "cell_type": "code",
   "execution_count": null,
   "id": "517f7a19",
   "metadata": {},
   "outputs": [],
   "source": [
    "%%local\n",
    "\n",
    "df.hvplot.line(x=\"event_time\", y=\"precip\", by=\"device_id\")"
   ]
  },
  {
   "cell_type": "code",
   "execution_count": null,
   "id": "b3d19de5",
   "metadata": {},
   "outputs": [],
   "source": []
  }
 ],
 "metadata": {
  "kernelspec": {
   "display_name": "PySpark",
   "language": "python",
   "name": "pysparkkernel"
  },
  "language_info": {
   "codemirror_mode": {
    "name": "python",
    "version": 3
   },
   "file_extension": ".py",
   "mimetype": "text/x-python",
   "name": "pyspark",
   "pygments_lexer": "python3"
  }
 },
 "nbformat": 4,
 "nbformat_minor": 5
}
