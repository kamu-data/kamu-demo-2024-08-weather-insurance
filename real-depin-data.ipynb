{
 "cells": [
  {
   "cell_type": "code",
   "execution_count": null,
   "id": "8f54a102",
   "metadata": {},
   "outputs": [],
   "source": [
    "%load_ext kamu"
   ]
  },
  {
   "cell_type": "code",
   "execution_count": null,
   "id": "517f7a19",
   "metadata": {},
   "outputs": [],
   "source": [
    "%%local\n",
    "import os\n",
    "import numpy as np\n",
    "import pandas as pd\n",
    "import plotly.graph_objects as go\n",
    "import plotly.express as px\n",
    "import hvplot.pandas  # noqa\n",
    "import hvplot.xarray  # noqa\n",
    "import holoviews as hv\n",
    "from utils import plotting\n",
    "from mapboxgl.viz import *\n",
    "from mapboxgl.utils import *\n",
    "\n",
    "# Must be a public token, starting with `pk`\n",
    "token = os.getenv('MAPBOX_ACCESS_TOKEN')\n",
    "\n",
    "mapbox_style = 'mapbox://styles/mapbox/streets-v11'"
   ]
  },
  {
   "cell_type": "code",
   "execution_count": null,
   "id": "065a8f24",
   "metadata": {},
   "outputs": [],
   "source": [
    "%import_dataset com.arcgis.hub.usa-counties --alias usa_counties"
   ]
  },
  {
   "cell_type": "code",
   "execution_count": null,
   "id": "0661670f",
   "metadata": {},
   "outputs": [],
   "source": [
    "# By default code runs PySpark on the server side\n",
    "# Use %%local tag to execute code in the local notebook kernel\n",
    "usa_counties.printSchema()"
   ]
  },
  {
   "cell_type": "code",
   "execution_count": null,
   "id": "1f5ff3bb",
   "metadata": {},
   "outputs": [],
   "source": [
    "%%sql\n",
    "select * from usa_counties limit 3"
   ]
  },
  {
   "cell_type": "code",
   "execution_count": null,
   "id": "09dadd3a",
   "metadata": {},
   "outputs": [],
   "source": [
    "%%sql -o df_countries -q\n",
    "select * from usa_counties"
   ]
  },
  {
   "cell_type": "code",
   "execution_count": null,
   "id": "c0ba2bb7",
   "metadata": {},
   "outputs": [],
   "source": [
    "%%local\n",
    "viz = ChoroplethViz(\n",
    "    plotting.df_to_geojson(df_countries),\n",
    "    style=mapbox_style,\n",
    "    center=(-101, 41),\n",
    "    zoom=3,\n",
    "    access_token=token,\n",
    "    color_property='gis_area',\n",
    "    color_stops=create_color_stops([0], colors=['#8888ff']),\n",
    "    color_default='white',\n",
    "    line_width=0,\n",
    "    opacity=0.2,\n",
    ")\n",
    "\n",
    "viz.show()"
   ]
  },
  {
   "cell_type": "code",
   "execution_count": null,
   "id": "f15c8052",
   "metadata": {},
   "outputs": [],
   "source": [
    "%import_dataset com.weatherxm --alias weatherxm"
   ]
  },
  {
   "cell_type": "code",
   "execution_count": null,
   "id": "8cb6ccf3",
   "metadata": {},
   "outputs": [],
   "source": [
    "%%sql\n",
    "select * from weatherxm limit 5"
   ]
  },
  {
   "cell_type": "code",
   "execution_count": null,
   "id": "2b9ff904",
   "metadata": {},
   "outputs": [],
   "source": [
    "%%sql\n",
    "select\n",
    "    event_time,\n",
    "    precipitation_accumulated\n",
    "from weatherxm\n",
    "where device_id = \"78243940-96aa-11ed-9972-4f669f2d96bd\" and precipitation_accumulated is not null"
   ]
  },
  {
   "cell_type": "code",
   "execution_count": null,
   "id": "b3d19de5",
   "metadata": {},
   "outputs": [],
   "source": []
  },
  {
   "cell_type": "code",
   "execution_count": null,
   "id": "af5dfe25",
   "metadata": {},
   "outputs": [],
   "source": [
    "%%sql -o df -q\n",
    "with all_measurements as (\n",
    "    select\n",
    "        event_time,\n",
    "        device_id,\n",
    "        lat,\n",
    "        lon,\n",
    "        precipitation_accumulated as p\n",
    "    from weatherxm\n",
    "    where precipitation_accumulated is not null\n",
    "),\n",
    "by_device as (\n",
    "    select\n",
    "        device_id,\n",
    "        avg(lat) as lat,\n",
    "        avg(lon) as lon,\n",
    "        max(p) - min(p) as p_delta\n",
    "    from all_measurements\n",
    "    group by 1\n",
    "    having p_delta < 1000 -- dirty hack to remove outliers\n",
    ")\n",
    "select * from by_device"
   ]
  },
  {
   "cell_type": "code",
   "execution_count": null,
   "id": "341372f8",
   "metadata": {},
   "outputs": [],
   "source": [
    "%%local\n",
    "df.hvplot.hist(\"p_delta\", bins=100)"
   ]
  },
  {
   "cell_type": "code",
   "execution_count": null,
   "id": "fad817a8",
   "metadata": {},
   "outputs": [],
   "source": [
    "%%local\n",
    "viz = CircleViz(\n",
    "    df_to_geojson(\n",
    "        df, \n",
    "        properties=['p_delta'],\n",
    "        lat='lat',\n",
    "        lon='lon',\n",
    "        precision=3\n",
    "    ),\n",
    "    style=mapbox_style,\n",
    "    center=(7,50),\n",
    "    zoom=4,\n",
    "    radius=4,\n",
    "    color_property='p_delta',\n",
    "    color_stops=create_color_stops([0,5,10,15,20,25,30,100], colors='Blues'),\n",
    "    stroke_width=0.1,\n",
    "    opacity=0.8\n",
    ")\n",
    "\n",
    "viz.show()"
   ]
  },
  {
   "cell_type": "code",
   "execution_count": null,
   "id": "d95b893c",
   "metadata": {},
   "outputs": [],
   "source": []
  },
  {
   "cell_type": "code",
   "execution_count": null,
   "id": "3b35a110",
   "metadata": {},
   "outputs": [],
   "source": [
    "%%sql -o df_precip_by_county -q\n",
    "with all_measurements as (\n",
    "    select\n",
    "        event_time,\n",
    "        device_id,\n",
    "        lat,\n",
    "        lon,\n",
    "        precipitation_accumulated as p\n",
    "    from weatherxm\n",
    "    where precipitation_accumulated is not null\n",
    "),\n",
    "by_device as (\n",
    "    select\n",
    "        device_id,\n",
    "        avg(lat) as lat,\n",
    "        avg(lon) as lon,\n",
    "        max(p) - min(p) as p_delta\n",
    "    from all_measurements\n",
    "    group by 1\n",
    "    having p_delta < 1000 -- dirty hack to remove outliers\n",
    "),\n",
    "by_county as (\n",
    "    select\n",
    "        county.fips,\n",
    "        first(county.name) as name,\n",
    "        count(*) as num_devices,\n",
    "        avg(p_delta) as avg_precip\n",
    "    from\n",
    "        (\n",
    "            select\n",
    "                fips,\n",
    "                name,\n",
    "                st_geomfromgeojson(geometry) as geometry\n",
    "            from usa_counties\n",
    "        ) as county,\n",
    "        by_device as dev\n",
    "    where st_contains(county.geometry, st_point(dev.lon, dev.lat))\n",
    "    group by 1\n",
    "),\n",
    "by_county_geoms as (\n",
    "    select\n",
    "        c.fips,\n",
    "        c.name,\n",
    "        c.geometry,\n",
    "        bc.num_devices,\n",
    "        bc.avg_precip\n",
    "    from usa_counties as c\n",
    "    left join by_county as bc\n",
    "    on c.fips = bc.fips\n",
    ")\n",
    "select * from by_county_geoms"
   ]
  },
  {
   "cell_type": "code",
   "execution_count": null,
   "id": "0e0f35f0",
   "metadata": {},
   "outputs": [],
   "source": [
    "%%local\n",
    "df_precip_by_county = df_precip_by_county.replace({np.nan: 0})\n",
    "\n",
    "viz = ChoroplethViz(\n",
    "    plotting.df_to_geojson(df_precip_by_county),\n",
    "    style=mapbox_style,\n",
    "    center=(-81, 34),\n",
    "    zoom=4,\n",
    "    access_token=token,\n",
    "    color_property='avg_precip',\n",
    "    color_stops=create_color_stops([0,1,3,5,10,20], colors='Oranges'),\n",
    "    color_default='#ffffff',\n",
    "    line_width=0.4,\n",
    "    line_color='#aaaaff',\n",
    "    opacity=0.3,\n",
    ")\n",
    "\n",
    "viz.show()"
   ]
  },
  {
   "cell_type": "code",
   "execution_count": null,
   "id": "10f6dfdc",
   "metadata": {},
   "outputs": [],
   "source": []
  }
 ],
 "metadata": {
  "kernelspec": {
   "display_name": "PySpark",
   "language": "python",
   "name": "pysparkkernel"
  },
  "language_info": {
   "codemirror_mode": {
    "name": "python",
    "version": 3
   },
   "file_extension": ".py",
   "mimetype": "text/x-python",
   "name": "pyspark",
   "pygments_lexer": "python3"
  }
 },
 "nbformat": 4,
 "nbformat_minor": 5
}
